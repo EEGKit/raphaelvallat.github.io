{
 "cells": [
  {
   "cell_type": "markdown",
   "metadata": {},
   "source": [
    "# Understanding Fourier Transform"
   ]
  },
  {
   "cell_type": "markdown",
   "metadata": {},
   "source": [
    "## Generate a sine\n",
    "### Properties\n",
    "* Sampling rate (Hz) = points per second\n",
    "* Main frequency (Hz) = cycle per second\n",
    "* Duration (seconds)\n",
    "* Number of sample = sampling rate * duration = X time points\n",
    "* Amplitude (Volts) = the max values of the sin\n",
    "* Phase (degrees)"
   ]
  },
  {
   "cell_type": "code",
   "execution_count": 38,
   "metadata": {},
   "outputs": [],
   "source": [
    "import numpy as np\n",
    "import matplotlib.pyplot as plt\n",
    "Fs = 64\n",
    "f = 1 \n",
    "duration = 1\n",
    "amplitude = 10\n",
    "phi = 30\n",
    "N = Fs * duration # Total number of discrete samples\n",
    "t = np.arange(N) # Time vector\n",
    "# Construct a pure sine wave\n",
    "y = amplitude * np.sin(2 * np.pi * f * (t/Fs) + np.deg2rad(phi))"
   ]
  },
  {
   "cell_type": "markdown",
   "metadata": {},
   "source": [
    "Let's now plot the signal in the ***time-domain***"
   ]
  },
  {
   "cell_type": "code",
   "execution_count": 39,
   "metadata": {},
   "outputs": [
    {
     "data": {
      "image/png": "[encoded data removed]",
      "text/plain": [
       "<matplotlib.figure.Figure at 0x17ea72ed3c8>"
      ]
     },
     "metadata": {},
     "output_type": "display_data"
    }
   ],
   "source": [
    "# Plot the sine in the time-domain\n",
    "plt.stem(t,y, 'r')\n",
    "plt.plot(t,y)\n",
    "plt.xlabel('Sample (n)')\n",
    "plt.ylabel('Voltage (V)')\n",
    "plt.show()"
   ]
  },
  {
   "cell_type": "markdown",
   "metadata": {},
   "source": [
    "## Compute the Discrete Fourier Transform manually\n",
    "We will use Euler's formula to convert the exponential terms in sin and cos:\n",
    "e<sup>jx</sup> = cos x + j sin x"
   ]
  },
  {
   "cell_type": "code",
   "execution_count": 40,
   "metadata": {},
   "outputs": [],
   "source": [
    "def DFT_naive(x):\n",
    "    '''Implementation of the Discrete Fourier Transform using a naive \n",
    "    and ultra-slow method based on Euler's formula. \n",
    "    See https://www.youtube.com/watch?v=mkGsMWi_j4Q\n",
    "    '''\n",
    "    N = x.shape[0]\n",
    "    \n",
    "    # The number of frequency bins = the number of samples\n",
    "    dft = np.zeros(N, dtype=complex)\n",
    "    \n",
    "    for k in np.arange(N):\n",
    "        dft[k] = np.sum([n*(np.cos(-2*np.pi*i*k/N) + 1j * np.sin(-2*np.pi*i*k/N)) for i, n in enumerate(x)])\n",
    "        \n",
    "    return dft"
   ]
  },
  {
   "cell_type": "code",
   "execution_count": 41,
   "metadata": {},
   "outputs": [
    {
     "name": "stdout",
     "output_type": "stream",
     "text": [
      "[ 4.04121181e-14+0.00000000e+00j  1.60000000e+02-2.77128129e+02j\n",
      " -3.43058915e-14+3.45279361e-14j -2.93098879e-14-2.15383267e-14j\n",
      "  2.03523205e-14+4.44089210e-15j -1.98729921e-14+4.52970994e-14j\n",
      "  1.14075416e-13+3.88578059e-15j -8.29336599e-14-2.27595720e-14j\n",
      "  1.05122842e-15-3.57834359e-15j -5.44009282e-15-7.58837437e-14j\n",
      "  5.41788836e-14-3.94684285e-14j -5.65658631e-14+1.28924649e-13j\n",
      " -5.61123874e-14+6.21724894e-15j -8.89288643e-14-1.09023901e-13j\n",
      "  3.15525384e-13+7.01660952e-14j  4.26325641e-14-3.55271368e-14j\n",
      " -1.30051998e-13-2.79164639e-14j  1.56319402e-13-4.26325641e-14j\n",
      "  8.89288643e-14+1.06026299e-13j  5.53446178e-14-3.55271368e-14j\n",
      "  5.69681848e-14-1.67643677e-13j -8.72635297e-14+3.04090086e-13j\n",
      "  5.70654635e-14-4.73177053e-13j  2.41140441e-13+9.39803790e-14j\n",
      " -5.31676819e-13+7.93794589e-14j -2.66453526e-14-7.17814697e-13j\n",
      "  4.08839629e-13+3.93018951e-14j  6.11732887e-14+2.11608508e-13j\n",
      " -1.48956966e-13+4.03233003e-13j  1.96564987e-13+1.64313008e-13j\n",
      "  3.39173134e-13+1.25122135e-13j -2.77111667e-13-2.84217094e-14j\n",
      "  1.28785871e-14+1.17687685e-13j -1.63424829e-13+2.13162821e-13j\n",
      "  2.28261854e-13-1.22124533e-14j -2.44915199e-13-1.10800258e-13j\n",
      "  5.39056956e-13-6.48370246e-13j  2.25430785e-13+3.55049323e-13j\n",
      " -5.68489700e-13+3.64153152e-14j -2.93431945e-13-8.55815419e-13j\n",
      "  3.62524810e-13-3.35838481e-13j -3.75255382e-14+6.65578703e-13j\n",
      "  1.59872116e-13-8.78130901e-13j  3.08975068e-13+2.12385665e-13j\n",
      " -3.90349386e-13-2.59570143e-13j  2.39086528e-13-6.84341472e-13j\n",
      " -5.63327163e-13-5.02931030e-14j -9.94759830e-14+1.56319402e-13j\n",
      "  4.77002606e-13-3.55163825e-13j  8.52651283e-14+3.48165941e-13j\n",
      " -1.07736042e-12+3.91575661e-13j  3.36952688e-13-8.17346191e-13j\n",
      "  3.32585408e-13+4.98379116e-13j  4.28546088e-14+4.05064871e-13j\n",
      " -2.52020627e-14-2.87547763e-14j  1.39555034e-13-3.84137167e-13j\n",
      " -3.31993375e-13-8.44350244e-13j -1.01030295e-14+1.76469950e-13j\n",
      "  9.73110481e-14+8.07132139e-13j  1.02493014e-12-3.98125977e-13j\n",
      " -3.34773473e-13+4.24105195e-14j -1.48103751e-13-7.26085858e-14j\n",
      "  1.05204734e-12+2.79221091e-13j  1.60000000e+02+2.77128129e+02j]\n"
     ]
    }
   ],
   "source": [
    "dft = DFT_naive(y)\n",
    "print(dft)"
   ]
  },
  {
   "cell_type": "markdown",
   "metadata": {},
   "source": [
    "The units of the FFT is the same as the original signal, i.e. in Volts. \n",
    "\n",
    "The resulting spectrum is two-sided. However, because of the Nyquist theorem, we cannot compute the DFT for frequency > Fs / 2. Therefore we split the spectrum in two.\n",
    "\n",
    "NumPy doc:\n",
    "> When the DFT is computed for purely real input, the output is Hermitian-symmetric, i.e. the negative frequency terms are just the complex conjugates of the corresponding positive-frequency terms, and the negative-frequency terms are therefore redundant. This function does not compute the negative frequency terms, and the length of the transformed axis of the output is therefore n//2 + 1."
   ]
  },
  {
   "cell_type": "code",
   "execution_count": 42,
   "metadata": {},
   "outputs": [
    {
     "name": "stdout",
     "output_type": "stream",
     "text": [
      "[  0.  +0.    j 160.-277.1281j  -0.  +0.    j  -0.  -0.    j\n",
      "   0.  +0.    j  -0.  +0.    j   0.  +0.    j  -0.  -0.    j\n",
      "   0.  -0.    j  -0.  -0.    j   0.  -0.    j  -0.  +0.    j\n",
      "  -0.  +0.    j  -0.  -0.    j   0.  +0.    j   0.  -0.    j\n",
      "  -0.  -0.    j   0.  -0.    j   0.  +0.    j   0.  -0.    j\n",
      "   0.  -0.    j  -0.  +0.    j   0.  -0.    j   0.  +0.    j\n",
      "  -0.  +0.    j  -0.  -0.    j   0.  +0.    j   0.  +0.    j\n",
      "  -0.  +0.    j   0.  +0.    j   0.  +0.    j  -0.  -0.    j\n",
      "   0.  +0.    j]\n"
     ]
    }
   ],
   "source": [
    "# We keep only the first half\n",
    "dft = dft[0:N//2+1]\n",
    "\n",
    "# Round for visualization purpose\n",
    "dft = np.round(dft, 4)\n",
    "print(dft)"
   ]
  },
  {
   "cell_type": "markdown",
   "metadata": {},
   "source": [
    "We can now compute the frequency vector. Because we have 16 sample points (Fs * duration), we get 16 frequency bins from 0 to Fs-1. That means that the more sample points you have, the more frequency bins you get and the higher the resolution of the DFT is. Again, because our input data are real, we split the frequency vector in two to remove the redundant negative-frequency terms."
   ]
  },
  {
   "cell_type": "code",
   "execution_count": 43,
   "metadata": {},
   "outputs": [
    {
     "name": "stdout",
     "output_type": "stream",
     "text": [
      "[ 0.  1.  2.  3.  4.  5.  6.  7.  8.  9. 10. 11. 12. 13. 14. 15. 16. 17.\n",
      " 18. 19. 20. 21. 22. 23. 24. 25. 26. 27. 28. 29. 30. 31. 32.]\n"
     ]
    }
   ],
   "source": [
    "freqs = np.linspace(0, Fs, N, endpoint=False)\n",
    "freqs = freqs[0:N//2+1]\n",
    "print(freqs)"
   ]
  },
  {
   "cell_type": "markdown",
   "metadata": {},
   "source": [
    "Let's compare our values with the NumPy FFT built-in function"
   ]
  },
  {
   "cell_type": "code",
   "execution_count": 44,
   "metadata": {},
   "outputs": [
    {
     "name": "stdout",
     "output_type": "stream",
     "text": [
      "[  0.  +0.    j 160.-277.1281j  -0.  +0.    j  -0.  -0.    j\n",
      "   0.  +0.    j  -0.  +0.    j   0.  +0.    j  -0.  -0.    j\n",
      "   0.  -0.    j  -0.  -0.    j   0.  -0.    j  -0.  +0.    j\n",
      "  -0.  +0.    j  -0.  -0.    j   0.  +0.    j   0.  -0.    j\n",
      "  -0.  -0.    j   0.  -0.    j   0.  +0.    j   0.  -0.    j\n",
      "   0.  -0.    j  -0.  +0.    j   0.  -0.    j   0.  +0.    j\n",
      "  -0.  +0.    j  -0.  -0.    j   0.  +0.    j   0.  +0.    j\n",
      "  -0.  +0.    j   0.  +0.    j   0.  +0.    j  -0.  -0.    j\n",
      "   0.  +0.    j] [  0.  +0.    j 160.-277.1281j   0.  +0.    j  -0.  -0.    j\n",
      "   0.  -0.    j   0.  -0.    j   0.  +0.    j  -0.  -0.    j\n",
      "   0.  +0.    j   0.  -0.    j   0.  +0.    j   0.  -0.    j\n",
      "   0.  +0.    j   0.  -0.    j  -0.  -0.    j   0.  -0.    j\n",
      "  -0.  +0.    j   0.  -0.    j  -0.  +0.    j  -0.  -0.    j\n",
      "   0.  -0.    j   0.  -0.    j   0.  -0.    j   0.  +0.    j\n",
      "  -0.  +0.    j  -0.  +0.    j  -0.  +0.    j   0.  -0.    j\n",
      "  -0.  +0.    j  -0.  +0.    j  -0.  -0.    j  -0.  +0.    j\n",
      "  -0.  +0.    j]\n",
      "True\n",
      "True\n"
     ]
    }
   ],
   "source": [
    "fft_np = np.fft.rfft(y)\n",
    "freqs_np = np.fft.rfftfreq(N, d=1./Fs)\n",
    "\n",
    "# Round for visualization purpose\n",
    "fft_np = np.round(fft_np, 4)\n",
    "print(dft, fft_np)\n",
    "\n",
    "# Compare our method and NumPy\n",
    "print(np.allclose(dft, fft_np))\n",
    "print(np.allclose(freqs, freqs_np))"
   ]
  },
  {
   "cell_type": "markdown",
   "metadata": {},
   "source": [
    "***Note: the complexity of the Discrete Fourier Transform is equals to N<sup>2</sup>***"
   ]
  },
  {
   "cell_type": "code",
   "execution_count": 45,
   "metadata": {},
   "outputs": [
    {
     "name": "stdout",
     "output_type": "stream",
     "text": [
      "The number of operations performed is: 4096\n"
     ]
    }
   ],
   "source": [
    "print('The number of operations performed is: ' + str(N**2))"
   ]
  },
  {
   "cell_type": "markdown",
   "metadata": {},
   "source": [
    "### Extract the magnitude and power spectral density\n",
    "The magnitude is the square root of a<sup>2</sup> + b<sup>2</sup> divided by the number of samples. The resulting values are in Volts / Hz."
   ]
  },
  {
   "cell_type": "code",
   "execution_count": 46,
   "metadata": {},
   "outputs": [
    {
     "name": "stdout",
     "output_type": "stream",
     "text": [
      "[0.         9.99999921 0.         0.         0.         0.\n",
      " 0.         0.         0.         0.         0.         0.\n",
      " 0.         0.         0.         0.         0.         0.\n",
      " 0.         0.         0.         0.         0.         0.\n",
      " 0.         0.         0.         0.         0.         0.\n",
      " 0.         0.         0.        ]\n"
     ]
    }
   ],
   "source": [
    "onesided = True\n",
    "fac = 2 if onesided == True else 1\n",
    "mag =  fac * np.sqrt(dft.real**2 + dft.imag**2) / N # or np.abs(dft) / N\n",
    "print(mag)"
   ]
  },
  {
   "cell_type": "markdown",
   "metadata": {},
   "source": [
    "Let's plot the result of a DFT. In other words, we are now looking at the signal y in the ***frequency-domain***."
   ]
  },
  {
   "cell_type": "code",
   "execution_count": 47,
   "metadata": {},
   "outputs": [
    {
     "data": {
      "image/png": "[encoded data removed]",
      "text/plain": [
       "<matplotlib.figure.Figure at 0x17ea5f08550>"
      ]
     },
     "metadata": {},
     "output_type": "display_data"
    }
   ],
   "source": [
    "plt.stem(freqs, mag)\n",
    "plt.xlabel('Frequency (Hz)')\n",
    "plt.ylabel('Magnitude (V/Hz)')\n",
    "plt.show()"
   ]
  },
  {
   "cell_type": "markdown",
   "metadata": {},
   "source": [
    "More often, we want to compute the power spectral density, expressed in Volts<sup>2</sup>/Hz"
   ]
  },
  {
   "cell_type": "code",
   "execution_count": 48,
   "metadata": {},
   "outputs": [
    {
     "name": "stdout",
     "output_type": "stream",
     "text": [
      "[  0. 100.   0.   0.   0.   0.   0.   0.   0.   0.   0.   0.   0.   0.\n",
      "   0.   0.   0.   0.   0.   0.   0.   0.   0.   0.   0.   0.   0.   0.\n",
      "   0.   0.   0.   0.   0.]\n"
     ]
    }
   ],
   "source": [
    "# Now compute the one-sided Power Spectral Density\n",
    "psd = mag ** 2\n",
    "print(np.round(psd, 2))"
   ]
  },
  {
   "cell_type": "markdown",
   "metadata": {},
   "source": [
    "Check that we obtain the same values that with Scipy built-in function to compute PSD (periodogram)"
   ]
  },
  {
   "cell_type": "code",
   "execution_count": 49,
   "metadata": {},
   "outputs": [
    {
     "name": "stdout",
     "output_type": "stream",
     "text": [
      "[ 0. 50.  0.  0.  0.  0.  0.  0.  0.  0.  0.  0.  0.  0.  0.  0.  0.  0.\n",
      "  0.  0.  0.  0.  0.  0.  0.  0.  0.  0.  0.  0.  0.  0.  0.]\n"
     ]
    }
   ],
   "source": [
    "from scipy.signal import periodogram\n",
    "freqs_scipy, psd_den_scipy = periodogram(y, Fs, scaling='density')\n",
    "print(np.round(psd_den_scipy, 2))"
   ]
  },
  {
   "cell_type": "markdown",
   "metadata": {},
   "source": [
    "To compute the Power Spectrum, we divide by the duration in seconds of the recordings. The resulting values are in V<sup>2</sup>)"
   ]
  },
  {
   "cell_type": "code",
   "execution_count": 50,
   "metadata": {},
   "outputs": [
    {
     "name": "stdout",
     "output_type": "stream",
     "text": [
      "[  0. 100.   0.   0.   0.   0.   0.   0.   0.   0.   0.   0.   0.   0.\n",
      "   0.   0.   0.   0.   0.   0.   0.   0.   0.   0.   0.   0.   0.   0.\n",
      "   0.   0.   0.   0.   0.] [ 0. 50.  0.  0.  0.  0.  0.  0.  0.  0.  0.  0.  0.  0.  0.  0.  0.  0.\n",
      "  0.  0.  0.  0.  0.  0.  0.  0.  0.  0.  0.  0.  0.  0.  0.]\n",
      "False\n"
     ]
    }
   ],
   "source": [
    "spec = psd / duration\n",
    "_, psd_spec_scipy = periodogram(y, Fs, scaling='spectrum')\n",
    "print(np.round(spec), np.round(psd_spec_scipy))\n",
    "print(np.allclose(psd_spec_scipy, spec))"
   ]
  },
  {
   "cell_type": "markdown",
   "metadata": {},
   "source": [
    "Because powers can get really big, it can be useful to scale them using a log-transform. PSD can be converted to dB using the formula dB = 10 * log<sub>10</sub>(powers). The scaling does not affect the units which are still in Volts<sup>2</sup>/Hz."
   ]
  },
  {
   "cell_type": "code",
   "execution_count": 51,
   "metadata": {},
   "outputs": [
    {
     "name": "stdout",
     "output_type": "stream",
     "text": [
      "[19.99999931]\n"
     ]
    }
   ],
   "source": [
    "# We only keep the non-zero values to avoid \"RuntimeWarning: divide by zero encountered in log10\"\n",
    "db = 10 * np.log10(psd[psd != 0])\n",
    "print(db)"
   ]
  },
  {
   "cell_type": "markdown",
   "metadata": {},
   "source": [
    "### Extract the phase angle"
   ]
  },
  {
   "cell_type": "markdown",
   "metadata": {},
   "source": [
    "To extract the angle (= phase), we use the **arctangent** function.\n",
    "\n",
    "*From https://www.gaussianwaves.com/2015/11/interpreting-fft-results-obtaining-magnitude-and-phase-information/*\n",
    "> The obvious choice for implementation seems to be the *arctan* function in Numpy. However, usage of atan function will prove disastrous unless additional precautions are taken. The atan function computes the inverse tangent over two quadrants only, i.e, it will return values only in the [−π/2,π/2] interval. Therefore, the phase need to be unwrapped properly. We can simply fix this issue by computing the inverse tangent over all the four quadrants using the *arctan2(Ximg,Xre)* function."
   ]
  },
  {
   "cell_type": "code",
   "execution_count": 52,
   "metadata": {},
   "outputs": [
    {
     "name": "stdout",
     "output_type": "stream",
     "text": [
      "[ 57.29577951  28.64789202 -57.29577951 -57.29577951  57.29577951\n",
      " -57.29577951  57.29577951 -57.29577951  57.29577951 -57.29577951\n",
      "  57.29577951 -57.29577951 -57.29577951 -57.29577951  57.29577951\n",
      "  57.29577951 -57.29577951  57.29577951  57.29577951  57.29577951\n",
      "  57.29577951 -57.29577951  57.29577951  57.29577951 -57.29577951\n",
      " -57.29577951  57.29577951  57.29577951 -57.29577951  57.29577951\n",
      "  57.29577951 -57.29577951  57.29577951]\n"
     ]
    }
   ],
   "source": [
    "# Return the angle in radiant of the complex DFT values\n",
    "phases = np.angle(dft) # same as np.arctan2(dft.imag, dft.real)\n",
    "\n",
    "# However the phase returned by np.angle() is based on the cosine. \n",
    "# To find the phase of the sine function:\n",
    "sin_phases = np.cos(phases)\n",
    "print(np.rad2deg(sin_phases))"
   ]
  },
  {
   "cell_type": "markdown",
   "metadata": {},
   "source": [
    "We obtain a phase of 28.64 degrees at the frequency f = 1 Hz. This is probably due to rounding.\n",
    "\n",
    "Now let's plot the estimated phases."
   ]
  },
  {
   "cell_type": "code",
   "execution_count": 53,
   "metadata": {},
   "outputs": [
    {
     "data": {
      "image/png": "[encoded data removed]",
      "text/plain": [
       "<matplotlib.figure.Figure at 0x17ea5f75470>"
      ]
     },
     "metadata": {},
     "output_type": "display_data"
    }
   ],
   "source": [
    "f, (ax1, ax2) = plt.subplots(1, 2, figsize=(14, 4), sharex=True)\n",
    "ax1.stem(freqs, np.rad2deg(sin_phases))\n",
    "ax1.set_xlabel('Frequency (Hz)')\n",
    "ax1.set_ylabel('Phase angle (degrees)')\n",
    "ax2.stem(freqs, sin_phases)\n",
    "ax2.set_xlabel('Frequency (Hz)')\n",
    "ax2.set_ylabel('Phase angle (radians)')\n",
    "plt.show()"
   ]
  },
  {
   "cell_type": "markdown",
   "metadata": {},
   "source": [
    "# Appendix"
   ]
  },
  {
   "cell_type": "markdown",
   "metadata": {},
   "source": [
    "## Working with more complex signals"
   ]
  },
  {
   "cell_type": "code",
   "execution_count": 17,
   "metadata": {},
   "outputs": [
    {
     "name": "stdout",
     "output_type": "stream",
     "text": [
      "The number of operations performed is: 16384\n"
     ]
    },
    {
     "data": {
      "image/png": "[encoded data removed]",
      "text/plain": [
       "<matplotlib.figure.Figure at 0x1babcf6b908>"
      ]
     },
     "metadata": {},
     "output_type": "display_data"
    }
   ],
   "source": [
    "Fs = 32 \n",
    "f = [1, 2, 4, 12]\n",
    "A = [10, 8, 5, 1]\n",
    "duration = 4\n",
    "N = Fs * duration\n",
    "t = np.arange(N)\n",
    "w = 2 * np.pi * t / Fs\n",
    "\n",
    "# Construct a mixed sine wave\n",
    "y = A[0] * np.sin(w * f[0]) + A[1] * np.sin(w * f[1]) + A[2] * np.sin(w * f[2]) \\\n",
    "  + A[3] * np.sin(w * f[3])\n",
    "dft = np.zeros(N, dtype=complex)\n",
    "\n",
    "# Complexity\n",
    "print('The number of operations performed is: ' + str(N**2))\n",
    "\n",
    "# Compute DFT\n",
    "dft = DFT_naive(y)\n",
    "\n",
    "dft = dft[0:N//2+1]\n",
    "\n",
    "# Compute freqs vector\n",
    "freqs = np.linspace(0, Fs, N, endpoint=False)\n",
    "freqs = freqs[0:N//2+1]\n",
    "\n",
    "# Magnitude and PSD\n",
    "mag = 2 * np.abs(dft) / N\n",
    "psd = mag ** 2\n",
    "\n",
    "# Plot the signal in time and frequency domain\n",
    "f, (ax1, ax2, ax3) = plt.subplots(3, figsize=(12, 8))\n",
    "ax1.stem(t, y, 'r')\n",
    "ax1.plot(t,y)\n",
    "ax1.set_xlabel('Sample (n)')\n",
    "ax1.set_ylabel('Voltage (V)')\n",
    "ax2.stem(freqs, mag)\n",
    "ax2.set_xlabel('Frequency (Hz)')\n",
    "ax2.set_ylabel('Magnitude (V/Hz)')\n",
    "ax3.stem(freqs, psd)\n",
    "ax3.set_xlabel('Frequency (Hz)')\n",
    "ax3.set_ylabel('PSD (V^2/Hz)')\n",
    "plt.show()"
   ]
  },
  {
   "cell_type": "markdown",
   "metadata": {},
   "source": [
    "## DFT using matrix multiplication"
   ]
  },
  {
   "cell_type": "code",
   "execution_count": 18,
   "metadata": {},
   "outputs": [],
   "source": [
    "def DFT_matrix(x):\n",
    "    \"\"\"Compute the discrete Fourier Transform of the 1D array x\"\"\"\n",
    "    x = np.asarray(x, dtype=float)\n",
    "    N = x.shape[0]\n",
    "    n = np.arange(N)\n",
    "    k = n.reshape((N, 1))\n",
    "    M = np.exp(-2j * np.pi * k * n / N)\n",
    "    return np.dot(M, x)"
   ]
  },
  {
   "cell_type": "code",
   "execution_count": 19,
   "metadata": {},
   "outputs": [
    {
     "name": "stdout",
     "output_type": "stream",
     "text": [
      "True\n"
     ]
    }
   ],
   "source": [
    "Fs = 8\n",
    "f = 1\n",
    "duration = 1\n",
    "N = Fs * duration\n",
    "t = np.arange(N)\n",
    "y = np.sin(2 * np.pi * f * t / Fs)\n",
    "\n",
    "# Check by comparing with NumPy built-in function\n",
    "print(np.allclose(DFT_matrix(y), np.fft.fft(y)))"
   ]
  },
  {
   "cell_type": "markdown",
   "metadata": {},
   "source": [
    "## The Fast Fourier Transform\n",
    "Thanks to: http://jakevdp.github.io/blog/2013/08/28/understanding-the-fft/"
   ]
  },
  {
   "cell_type": "code",
   "execution_count": 20,
   "metadata": {},
   "outputs": [],
   "source": [
    "def FFT(x):\n",
    "    \"\"\"A recursive implementation of the 1D Cooley-Tukey FFT\"\"\"\n",
    "    x = np.asarray(x, dtype=float)\n",
    "    N = x.shape[0]\n",
    "    \n",
    "    if N % 2 > 0:\n",
    "        raise ValueError(\"size of x must be a power of 2\")\n",
    "    elif N <= 32:  # this cutoff should be optimized\n",
    "        return DFT_matrix(x)\n",
    "    else:\n",
    "        X_even = FFT(x[::2])\n",
    "        X_odd = FFT(x[1::2])\n",
    "        factor = np.exp(-2j * np.pi * np.arange(N) / N)\n",
    "        return np.concatenate([X_even + factor[:N // 2] * X_odd,\n",
    "                               X_even + factor[N // 2:] * X_odd])"
   ]
  },
  {
   "cell_type": "code",
   "execution_count": 21,
   "metadata": {},
   "outputs": [
    {
     "name": "stdout",
     "output_type": "stream",
     "text": [
      "DFT: 65536 operations\n",
      "FFT: 2048.0 operations\n",
      "True\n"
     ]
    }
   ],
   "source": [
    "Fs = 64\n",
    "f = 1\n",
    "duration = 4\n",
    "N = Fs * duration\n",
    "t = np.arange(N)\n",
    "y = np.sin(2 * np.pi * f * t / Fs)\n",
    "\n",
    "print('DFT: ' + str(N**2) + ' operations')\n",
    "print('FFT: ' + str(N*np.log2(N)) + ' operations')\n",
    "\n",
    "# Compute FFT\n",
    "fft = FFT(y)\n",
    "\n",
    "# Check by comparing with NumPy built-in function\n",
    "print(np.allclose(fft, np.fft.fft(y)))"
   ]
  },
  {
   "cell_type": "markdown",
   "metadata": {},
   "source": [
    "## Time comparison between the three algorithms"
   ]
  },
  {
   "cell_type": "code",
   "execution_count": 22,
   "metadata": {},
   "outputs": [
    {
     "name": "stdout",
     "output_type": "stream",
     "text": [
      "528 ms ± 6.72 ms per loop (mean ± std. dev. of 7 runs, 1 loop each)\n",
      "4.75 ms ± 218 µs per loop (mean ± std. dev. of 7 runs, 100 loops each)\n",
      "8.91 µs ± 62.3 ns per loop (mean ± std. dev. of 7 runs, 100000 loops each)\n"
     ]
    }
   ],
   "source": [
    "%timeit DFT_naive(y)\n",
    "%timeit DFT_matrix(y)\n",
    "%timeit np.fft.fft(y)"
   ]
  },
  {
   "cell_type": "markdown",
   "metadata": {},
   "source": [
    "## The Inverse Fourier Transform"
   ]
  },
  {
   "cell_type": "code",
   "execution_count": 23,
   "metadata": {},
   "outputs": [
    {
     "name": "stdout",
     "output_type": "stream",
     "text": [
      "[ 0.    0.71  1.    0.71  0.   -0.71 -1.   -0.71]\n",
      "[ 0.    0.71  1.    0.71  0.   -0.71 -1.   -0.71]\n"
     ]
    }
   ],
   "source": [
    "Fs = 8\n",
    "f = 1\n",
    "duration = 1\n",
    "N = Fs * duration\n",
    "t = np.arange(N)\n",
    "\n",
    "y = np.sin(2 * np.pi * f * t / Fs)\n",
    "dft = np.zeros(N, dtype=complex)\n",
    "idft = np.zeros(N, dtype=complex)\n",
    "\n",
    "# Compute DFT\n",
    "dft = DFT_naive(y)\n",
    "\n",
    "# Compute iDFT\n",
    "for k in np.arange(N):\n",
    "    idft[k] = np.sum([n*(np.cos(2*np.pi*i*k/N)+1j*np.sin(2*np.pi*i*k/N)) for i, n in enumerate(dft)])\n",
    "    \n",
    "reconstructed_signal = idft.real / N\n",
    "\n",
    "print(np.round(y, 2))\n",
    "print(np.round(reconstructed_signal, 2))"
   ]
  },
  {
   "cell_type": "markdown",
   "metadata": {},
   "source": [
    "## Bonus: computing cos and sin by hand using Taylor series"
   ]
  },
  {
   "cell_type": "code",
   "execution_count": 24,
   "metadata": {},
   "outputs": [
    {
     "name": "stdout",
     "output_type": "stream",
     "text": [
      "-0.9364566872907963 -0.9364566872907963\n",
      "-0.35078322768961956 -0.35078322768961984\n",
      "True\n",
      "True\n"
     ]
    }
   ],
   "source": [
    "from scipy.special import factorial\n",
    "        \n",
    "def cos_taylor(r, n_iter=50):\n",
    "    \"\"\"Compute a cos of a angle in radian.\n",
    "    n_iter = number of iterations\"\"\"   \n",
    "    return np.sum(((-1)**n * (r**(2*n))) / factorial(2*n) for n in np.arange(0, n_iter))\n",
    "    \n",
    "def sin_taylor(r, n_iter=50):\n",
    "    \"\"\"Compute a cos of a angle in radian.\n",
    "    n_iter = number of iterations\"\"\"   \n",
    "    return np.sum(((-1)**(n-1) * (r**(2*n-1))) / factorial(2*n-1) for n in np.arange(1, n_iter))\n",
    "\n",
    "print(cos_taylor(3.5), np.cos(3.5))\n",
    "print(sin_taylor(3.5), np.sin(3.5))\n",
    "print(np.allclose(cos_taylor(3.5), np.cos(3.5)))\n",
    "print(np.allclose(sin_taylor(3.5), np.sin(3.5)))"
   ]
  },
  {
   "cell_type": "code",
   "execution_count": 25,
   "metadata": {},
   "outputs": [
    {
     "name": "stdout",
     "output_type": "stream",
     "text": [
      "445 µs ± 8.71 µs per loop (mean ± std. dev. of 7 runs, 1000 loops each)\n",
      "493 ns ± 4.31 ns per loop (mean ± std. dev. of 7 runs, 1000000 loops each)\n"
     ]
    }
   ],
   "source": [
    "%timeit cos_taylor(3.5, 50)\n",
    "%timeit np.cos(3.5)"
   ]
  },
  {
   "cell_type": "markdown",
   "metadata": {},
   "source": [
    "NumPy implementation of the cos function is roughly 1000 times faster than ours with n_iter = 50 and ~200 times faster with n_iter = 10."
   ]
  }
 ],
 "metadata": {
  "kernelspec": {
   "display_name": "Python 3",
   "language": "python",
   "name": "python3"
  },
  "language_info": {
   "codemirror_mode": {
    "name": "ipython",
    "version": 3
   },
   "file_extension": ".py",
   "mimetype": "text/x-python",
   "name": "python",
   "nbconvert_exporter": "python",
   "pygments_lexer": "ipython3",
   "version": "3.6.4"
  }
 },
 "nbformat": 4,
 "nbformat_minor": 2
}
