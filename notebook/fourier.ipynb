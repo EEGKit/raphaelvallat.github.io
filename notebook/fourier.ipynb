{
 "cells": [
  {
   "cell_type": "markdown",
   "metadata": {},
   "source": [
    "# Understanding Fourier Transform"
   ]
  },
  {
   "cell_type": "markdown",
   "metadata": {},
   "source": [
    "## Generate a sine\n",
    "### Properties\n",
    "* Sampling rate (Hz) = points per second\n",
    "* Main frequency (Hz) = cycle per second\n",
    "* Duration (seconds)\n",
    "* Number of sample = sampling rate * duration = X time points\n",
    "* Amplitude (Volts) = the max values of the sin\n",
    "* Phase (degrees)"
   ]
  },
  {
   "cell_type": "code",
   "execution_count": null,
   "metadata": {},
   "outputs": [],
   "source": [
    "import numpy as np\n",
    "import matplotlib.pyplot as plt\n",
    "Fs = 8\n",
    "f = 1 \n",
    "duration = 2\n",
    "amplitude = 10\n",
    "phi = 30\n",
    "N = Fs * duration # Total number of discrete samples\n",
    "t = np.arange(N) # Time vector\n",
    "# Construct a pure sine wave\n",
    "y = amplitude * np.sin(2 * np.pi * f * (t/Fs) + np.deg2rad(phi))"
   ]
  },
  {
   "cell_type": "markdown",
   "metadata": {},
   "source": [
    "Let's now plot the signal in the ***time-domain***"
   ]
  },
  {
   "cell_type": "code",
   "execution_count": null,
   "metadata": {},
   "outputs": [],
   "source": [
    "# Plot the sine in the time-domain\n",
    "plt.stem(t,y, 'r')\n",
    "plt.plot(t,y)\n",
    "plt.xlabel('Sample (n)')\n",
    "plt.ylabel('Voltage (V)')\n",
    "plt.show()"
   ]
  },
  {
   "cell_type": "markdown",
   "metadata": {},
   "source": [
    "## Compute the Discrete Fourier Transform manually\n",
    "We will use Euler's formula to convert the exponential terms in sin and cos:\n",
    "e<sup>jx</sup> = cos x + j sin x"
   ]
  },
  {
   "cell_type": "code",
   "execution_count": null,
   "metadata": {},
   "outputs": [],
   "source": [
    "def DFT_naive(x):\n",
    "    '''Implementation of the Discrete Fourier Transform using a naive \n",
    "    and ultra-slow method based on Euler's formula. \n",
    "    See https://www.youtube.com/watch?v=mkGsMWi_j4Q\n",
    "    '''\n",
    "    N = x.shape[0]\n",
    "    \n",
    "    # The number of frequency bins = the number of samples\n",
    "    dft = np.zeros(N, dtype=complex)\n",
    "    \n",
    "    for k in np.arange(N):\n",
    "        dft[k] = np.sum([n*(np.cos(-2*np.pi*i*k/N) + 1j * np.sin(-2*np.pi*i*k/N)) for i, n in enumerate(x)])\n",
    "        \n",
    "    return dft"
   ]
  },
  {
   "cell_type": "code",
   "execution_count": null,
   "metadata": {},
   "outputs": [],
   "source": [
    "dft = DFT_naive(y)\n",
    "print(dft)"
   ]
  },
  {
   "cell_type": "markdown",
   "metadata": {},
   "source": [
    "The units of the FFT is the same as the original signal, i.e. in Volts. \n",
    "\n",
    "The resulting spectrum is two-sided. However, because of the Nyquist theorem, we cannot compute the DFT for frequency > Fs / 2. Therefore we split the spectrum in two.\n",
    "\n",
    "NumPy doc:\n",
    "> When the DFT is computed for purely real input, the output is Hermitian-symmetric, i.e. the negative frequency terms are just the complex conjugates of the corresponding positive-frequency terms, and the negative-frequency terms are therefore redundant. This function does not compute the negative frequency terms, and the length of the transformed axis of the output is therefore n//2 + 1."
   ]
  },
  {
   "cell_type": "code",
   "execution_count": null,
   "metadata": {},
   "outputs": [],
   "source": [
    "# We keep only the first half\n",
    "dft = dft[0:N//2+1]\n",
    "\n",
    "# Round for visualization purpose\n",
    "dft = np.round(dft, 4)\n",
    "print(dft)"
   ]
  },
  {
   "cell_type": "markdown",
   "metadata": {},
   "source": [
    "We can now compute the frequency vector. Because we have 16 sample points (Fs * duration), we get 16 frequency bins from 0 to Fs-1. That means that the more sample points you have, the more frequency bins you get and the higher the resolution of the DFT is. Again, because our input data are real, we split the frequency vector in two to remove the redundant negative-frequency terms."
   ]
  },
  {
   "cell_type": "code",
   "execution_count": null,
   "metadata": {},
   "outputs": [],
   "source": [
    "freqs = np.linspace(0, Fs, N, endpoint=False)\n",
    "freqs = freqs[0:N//2+1]\n",
    "print(freqs)"
   ]
  },
  {
   "cell_type": "markdown",
   "metadata": {},
   "source": [
    "Let's compare our values with the NumPy FFT built-in function"
   ]
  },
  {
   "cell_type": "code",
   "execution_count": null,
   "metadata": {},
   "outputs": [],
   "source": [
    "fft_np = np.fft.rfft(y)\n",
    "freqs_np = np.fft.rfftfreq(N, d=1./Fs)\n",
    "\n",
    "# Round for visualization purpose\n",
    "fft_np = np.round(fft_np, 4)\n",
    "print(dft, fft_np)\n",
    "\n",
    "# Compare our method and NumPy\n",
    "print(np.allclose(dft, fft_np))\n",
    "print(np.allclose(freqs, freqs_np))"
   ]
  },
  {
   "cell_type": "markdown",
   "metadata": {},
   "source": [
    "***Note: the complexity of the Discrete Fourier Transform is equals to N<sup>2</sup>***"
   ]
  },
  {
   "cell_type": "code",
   "execution_count": null,
   "metadata": {},
   "outputs": [],
   "source": [
    "print('The number of operations performed is: ' + str(N**2))"
   ]
  },
  {
   "cell_type": "markdown",
   "metadata": {},
   "source": [
    "### Extract the magnitude and power spectral density\n",
    "The magnitude is the square root of a<sup>2</sup> + b<sup>2</sup> divided by the number of samples. The resulting values are in Volts / Hz."
   ]
  },
  {
   "cell_type": "code",
   "execution_count": null,
   "metadata": {},
   "outputs": [],
   "source": [
    "mag =  np.sqrt(dft.real**2 + dft.imag**2) / N # or np.abs(dft) / N\n",
    "print(mag)"
   ]
  },
  {
   "cell_type": "markdown",
   "metadata": {},
   "source": [
    "Let's plot the result of a DFT. In other words, we are now looking at the signal y in the ***frequency-domain***."
   ]
  },
  {
   "cell_type": "code",
   "execution_count": null,
   "metadata": {},
   "outputs": [],
   "source": [
    "plt.stem(freqs, mag)\n",
    "plt.xlabel('Frequency (Hz)')\n",
    "plt.ylabel('Magnitude (V/Hz)')\n",
    "plt.show()"
   ]
  },
  {
   "cell_type": "markdown",
   "metadata": {},
   "source": [
    "More often, we want to compute the power spectral density, expressed in Volts<sup>2</sup>/Hz"
   ]
  },
  {
   "cell_type": "code",
   "execution_count": null,
   "metadata": {},
   "outputs": [],
   "source": [
    "# Now compute the one-sided Power Spectral Density\n",
    "onesided = True\n",
    "fac = 2 if onesided == True else 1\n",
    "psd = (fac * mag) ** 2\n",
    "print(np.round(psd, 2))"
   ]
  },
  {
   "cell_type": "markdown",
   "metadata": {},
   "source": [
    "Check that we obtain the same values that with Scipy built-in function to compute PSD (periodogram)"
   ]
  },
  {
   "cell_type": "code",
   "execution_count": null,
   "metadata": {},
   "outputs": [],
   "source": [
    "from scipy.signal import periodogram\n",
    "freqs_scipy, psd_den_scipy = periodogram(y, Fs, scaling='density')\n",
    "print(np.round(psd_den_scipy, 2))"
   ]
  },
  {
   "cell_type": "markdown",
   "metadata": {},
   "source": [
    "To compute the Power Spectrum, we divide by the duration in seconds of the recordings. The resulting values are in V<sup>2</sup>)"
   ]
  },
  {
   "cell_type": "code",
   "execution_count": null,
   "metadata": {},
   "outputs": [],
   "source": [
    "spec = psd / duration\n",
    "print(spec)\n",
    "_, psd_spec_scipy = periodogram(y, Fs, scaling='spectrum')\n",
    "print(np.round(psd_spec_scipy, 2))\n",
    "print(np.allclose(psd_spec_scipy, spec))"
   ]
  },
  {
   "cell_type": "markdown",
   "metadata": {},
   "source": [
    "Because powers can get really big, it can be useful to scale them using a log-transform. PSD can be converted to dB using the formula dB = 10 * log<sub>10</sub>(powers). The scaling does not affect the units which are still in Volts<sup>2</sup>/Hz."
   ]
  },
  {
   "cell_type": "code",
   "execution_count": null,
   "metadata": {},
   "outputs": [],
   "source": [
    "# We only keep the non-zero values to avoid \"RuntimeWarning: divide by zero encountered in log10\"\n",
    "db = 10 * np.log10(psd[psd != 0])\n",
    "print(db)"
   ]
  },
  {
   "cell_type": "markdown",
   "metadata": {},
   "source": [
    "### Extract the phase angle"
   ]
  },
  {
   "cell_type": "markdown",
   "metadata": {},
   "source": [
    "To extract the angle (= phase), we use the **arctangent** function.\n",
    "\n",
    "*From https://www.gaussianwaves.com/2015/11/interpreting-fft-results-obtaining-magnitude-and-phase-information/*\n",
    "> The obvious choice for implementation seems to be the *arctan* function in Numpy. However, usage of atan function will prove disastrous unless additional precautions are taken. The atan function computes the inverse tangent over two quadrants only, i.e, it will return values only in the [−π/2,π/2] interval. Therefore, the phase need to be unwrapped properly. We can simply fix this issue by computing the inverse tangent over all the four quadrants using the *arctan2(Ximg,Xre)* function."
   ]
  },
  {
   "cell_type": "code",
   "execution_count": null,
   "metadata": {},
   "outputs": [],
   "source": [
    "# Return the angle in radiant of the complex DFT values\n",
    "phases = np.angle(dft) # same as np.arctan2(dft.imag, dft.real)\n",
    "print(phases)\n",
    "\n",
    "# However the phase returned by np.angle() is based on the cosine. \n",
    "# To find the phase of the sine function:\n",
    "sin_phases = np.cos(phases)\n",
    "print(np.rad2deg(sin_phases))"
   ]
  },
  {
   "cell_type": "markdown",
   "metadata": {},
   "source": [
    "We obtain a phase of 28.64 degrees at the frequency f = 1 Hz. This is probably due to rounding.\n",
    "\n",
    "Now let's plot the estimated phases."
   ]
  },
  {
   "cell_type": "code",
   "execution_count": null,
   "metadata": {},
   "outputs": [],
   "source": [
    "f, (ax1, ax2) = plt.subplots(1, 2, figsize=(14, 4), sharex=True)\n",
    "ax1.stem(freqs, np.rad2deg(sin_phases))\n",
    "ax1.set_xlabel('Frequency (Hz)')\n",
    "ax1.set_ylabel('Phase angle (degrees)')\n",
    "ax2.stem(freqs, sin_phases)\n",
    "ax2.set_xlabel('Frequency (Hz)')\n",
    "ax2.set_ylabel('Phase angle (radians)')\n",
    "plt.show()"
   ]
  },
  {
   "cell_type": "markdown",
   "metadata": {},
   "source": [
    "# Appendix"
   ]
  },
  {
   "cell_type": "markdown",
   "metadata": {},
   "source": [
    "## Working with more complex signals"
   ]
  },
  {
   "cell_type": "code",
   "execution_count": null,
   "metadata": {},
   "outputs": [],
   "source": [
    "Fs = 32 \n",
    "f = [1, 2, 4, 12]\n",
    "A = [10, 8, 5, 1]\n",
    "duration = 4\n",
    "N = Fs * duration\n",
    "t = np.arange(N)\n",
    "w = 2 * np.pi * t / Fs\n",
    "\n",
    "# Construct a mixed sine wave\n",
    "y = A[0] * np.sin(w * f[0]) + A[1] * np.sin(w * f[1]) + A[2] * np.sin(w * f[2]) \\\n",
    "  + A[3] * np.sin(w * f[3])\n",
    "dft = np.zeros(N, dtype=complex)\n",
    "\n",
    "# Complexity\n",
    "print('The number of operations performed is: ' + str(N**2))\n",
    "\n",
    "# Compute DFT\n",
    "dft = DFT_naive(y)\n",
    "\n",
    "dft = dft[0:N//2+1]\n",
    "\n",
    "# Compute freqs vector\n",
    "freqs = np.linspace(0, Fs, N, endpoint=False)\n",
    "freqs = freqs[0:N//2+1]\n",
    "\n",
    "# Magnitude and PSD\n",
    "mag = np.abs(dft) / N\n",
    "psd = (2 * mag) ** 2\n",
    "\n",
    "# Plot the signal in time and frequency domain\n",
    "f, (ax1, ax2, ax3) = plt.subplots(3, figsize=(12, 8))\n",
    "ax1.stem(t, y, 'r')\n",
    "ax1.plot(t,y)\n",
    "ax1.set_xlabel('Sample (n)')\n",
    "ax1.set_ylabel('Voltage (V)')\n",
    "ax2.stem(freqs, mag)\n",
    "ax2.set_xlabel('Frequency (Hz)')\n",
    "ax2.set_ylabel('Magnitude (V/Hz)')\n",
    "ax3.stem(freqs, psd)\n",
    "ax3.set_xlabel('Frequency (Hz)')\n",
    "ax3.set_ylabel('PSD (V^2/Hz)')\n",
    "plt.show()"
   ]
  },
  {
   "cell_type": "markdown",
   "metadata": {},
   "source": [
    "## DFT using matrix multiplication"
   ]
  },
  {
   "cell_type": "code",
   "execution_count": null,
   "metadata": {},
   "outputs": [],
   "source": [
    "def DFT_matrix(x):\n",
    "    \"\"\"Compute the discrete Fourier Transform of the 1D array x\"\"\"\n",
    "    x = np.asarray(x, dtype=float)\n",
    "    N = x.shape[0]\n",
    "    n = np.arange(N)\n",
    "    k = n.reshape((N, 1))\n",
    "    M = np.exp(-2j * np.pi * k * n / N)\n",
    "    return np.dot(M, x)"
   ]
  },
  {
   "cell_type": "code",
   "execution_count": null,
   "metadata": {},
   "outputs": [],
   "source": [
    "Fs = 8\n",
    "f = 1\n",
    "duration = 1\n",
    "N = Fs * duration\n",
    "t = np.arange(N)\n",
    "y = np.sin(2 * np.pi * f * t / Fs)\n",
    "\n",
    "# Check by comparing with NumPy built-in function\n",
    "print(np.allclose(DFT_matrix(y), np.fft.fft(y)))"
   ]
  },
  {
   "cell_type": "markdown",
   "metadata": {},
   "source": [
    "## The Fast Fourier Transform\n",
    "Thanks to: http://jakevdp.github.io/blog/2013/08/28/understanding-the-fft/"
   ]
  },
  {
   "cell_type": "code",
   "execution_count": null,
   "metadata": {},
   "outputs": [],
   "source": [
    "def FFT(x):\n",
    "    \"\"\"A recursive implementation of the 1D Cooley-Tukey FFT\"\"\"\n",
    "    x = np.asarray(x, dtype=float)\n",
    "    N = x.shape[0]\n",
    "    \n",
    "    if N % 2 > 0:\n",
    "        raise ValueError(\"size of x must be a power of 2\")\n",
    "    elif N <= 32:  # this cutoff should be optimized\n",
    "        return DFT_matrix(x)\n",
    "    else:\n",
    "        X_even = FFT(x[::2])\n",
    "        X_odd = FFT(x[1::2])\n",
    "        factor = np.exp(-2j * np.pi * np.arange(N) / N)\n",
    "        return np.concatenate([X_even + factor[:N // 2] * X_odd,\n",
    "                               X_even + factor[N // 2:] * X_odd])"
   ]
  },
  {
   "cell_type": "code",
   "execution_count": null,
   "metadata": {},
   "outputs": [],
   "source": [
    "Fs = 64\n",
    "f = 1\n",
    "duration = 4\n",
    "N = Fs * duration\n",
    "t = np.arange(N)\n",
    "y = np.sin(2 * np.pi * f * t / Fs)\n",
    "\n",
    "print('DFT: ' + str(N**2) + ' operations')\n",
    "print('FFT: ' + str(N*np.log2(N)) + ' operations')\n",
    "\n",
    "# Compute FFT\n",
    "fft = FFT(y)\n",
    "\n",
    "# Check by comparing with NumPy built-in function\n",
    "print(np.allclose(fft, np.fft.fft(y)))"
   ]
  },
  {
   "cell_type": "markdown",
   "metadata": {},
   "source": [
    "## Time comparison between the three algorithms"
   ]
  },
  {
   "cell_type": "code",
   "execution_count": null,
   "metadata": {},
   "outputs": [],
   "source": [
    "%timeit DFT_naive(y)\n",
    "%timeit DFT_matrix(y)\n",
    "%timeit np.fft.fft(y)"
   ]
  },
  {
   "cell_type": "markdown",
   "metadata": {},
   "source": [
    "## The Inverse Fourier Transform"
   ]
  },
  {
   "cell_type": "code",
   "execution_count": null,
   "metadata": {},
   "outputs": [],
   "source": [
    "Fs = 8\n",
    "f = 1\n",
    "duration = 1\n",
    "N = Fs * duration\n",
    "t = np.arange(N)\n",
    "\n",
    "y = np.sin(2 * np.pi * f * t / Fs)\n",
    "dft = np.zeros(N, dtype=complex)\n",
    "idft = np.zeros(N, dtype=complex)\n",
    "\n",
    "# Compute DFT\n",
    "dft = DFT_naive(y)\n",
    "\n",
    "# Compute iDFT\n",
    "for k in np.arange(N):\n",
    "    idft[k] = np.sum([n*(np.cos(2*np.pi*i*k/N)+1j*np.sin(2*np.pi*i*k/N)) for i, n in enumerate(dft)])\n",
    "    \n",
    "reconstructed_signal = idft.real / N\n",
    "\n",
    "print(np.round(y, 2))\n",
    "print(np.round(reconstructed_signal, 2))"
   ]
  },
  {
   "cell_type": "markdown",
   "metadata": {},
   "source": [
    "## Bonus: computing cos and sin by hand using Taylor series"
   ]
  },
  {
   "cell_type": "code",
   "execution_count": null,
   "metadata": {},
   "outputs": [],
   "source": [
    "from scipy.special import factorial\n",
    "        \n",
    "def cos_taylor(r, n_iter=50):\n",
    "    \"\"\"Compute a cos of a angle in radian.\n",
    "    n_iter = number of iterations\"\"\"   \n",
    "    return np.sum(((-1)**n * (r**(2*n))) / factorial(2*n) for n in np.arange(0, n_iter))\n",
    "    \n",
    "def sin_taylor(r, n_iter=50):\n",
    "    \"\"\"Compute a cos of a angle in radian.\n",
    "    n_iter = number of iterations\"\"\"   \n",
    "    return np.sum(((-1)**(n-1) * (r**(2*n-1))) / factorial(2*n-1) for n in np.arange(1, n_iter))\n",
    "\n",
    "print(cos_taylor(3.5), np.cos(3.5))\n",
    "print(sin_taylor(3.5), np.sin(3.5))\n",
    "print(np.allclose(cos_taylor(3.5), np.cos(3.5)))\n",
    "print(np.allclose(sin_taylor(3.5), np.sin(3.5)))"
   ]
  },
  {
   "cell_type": "code",
   "execution_count": null,
   "metadata": {},
   "outputs": [],
   "source": [
    "%timeit cos_taylor(3.5, 50)\n",
    "%timeit np.cos(3.5)"
   ]
  },
  {
   "cell_type": "markdown",
   "metadata": {},
   "source": [
    "NumPy implementation of the cos function is roughly 1000 times faster than ours with n_iter = 50 and ~200 times faster with n_iter = 10."
   ]
  }
 ],
 "metadata": {
  "kernelspec": {
   "display_name": "Python 3",
   "language": "python",
   "name": "python3"
  },
  "language_info": {
   "codemirror_mode": {
    "name": "ipython",
    "version": 3
   },
   "file_extension": ".py",
   "mimetype": "text/x-python",
   "name": "python",
   "nbconvert_exporter": "python",
   "pygments_lexer": "ipython3",
   "version": "3.6.4"
  }
 },
 "nbformat": 4,
 "nbformat_minor": 2
}
